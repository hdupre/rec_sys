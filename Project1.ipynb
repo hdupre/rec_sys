{
 "cells": [
  {
   "cell_type": "markdown",
   "metadata": {},
   "source": [
    "# Project 1\n",
    "## Harris Dupre\n",
    "## Summer 2020, DATA 643\n",
    "\n",
    "\n",
    "#### This system recommends pizzerias to hungry people.\n"
   ]
  },
  {
   "cell_type": "code",
   "execution_count": 384,
   "metadata": {
    "scrolled": true
   },
   "outputs": [
    {
     "data": {
      "text/html": [
       "<div>\n",
       "<style scoped>\n",
       "    .dataframe tbody tr th:only-of-type {\n",
       "        vertical-align: middle;\n",
       "    }\n",
       "\n",
       "    .dataframe tbody tr th {\n",
       "        vertical-align: top;\n",
       "    }\n",
       "\n",
       "    .dataframe thead th {\n",
       "        text-align: right;\n",
       "    }\n",
       "</style>\n",
       "<table border=\"1\" class=\"dataframe\">\n",
       "  <thead>\n",
       "    <tr style=\"text-align: right;\">\n",
       "      <th></th>\n",
       "      <th>Rockys</th>\n",
       "      <th>Librettos</th>\n",
       "      <th>Little Italy</th>\n",
       "      <th>Joes</th>\n",
       "      <th>Cascarinos</th>\n",
       "    </tr>\n",
       "  </thead>\n",
       "  <tbody>\n",
       "    <tr>\n",
       "      <th>Harris</th>\n",
       "      <td>1.0</td>\n",
       "      <td>2.0</td>\n",
       "      <td>3.0</td>\n",
       "      <td>4.0</td>\n",
       "      <td>5.0</td>\n",
       "    </tr>\n",
       "    <tr>\n",
       "      <th>Jess</th>\n",
       "      <td>NaN</td>\n",
       "      <td>4.0</td>\n",
       "      <td>2.0</td>\n",
       "      <td>NaN</td>\n",
       "      <td>5.0</td>\n",
       "    </tr>\n",
       "    <tr>\n",
       "      <th>Madelyn</th>\n",
       "      <td>2.0</td>\n",
       "      <td>3.0</td>\n",
       "      <td>2.0</td>\n",
       "      <td>5.0</td>\n",
       "      <td>4.0</td>\n",
       "    </tr>\n",
       "    <tr>\n",
       "      <th>Paul</th>\n",
       "      <td>5.0</td>\n",
       "      <td>NaN</td>\n",
       "      <td>4.0</td>\n",
       "      <td>3.0</td>\n",
       "      <td>NaN</td>\n",
       "    </tr>\n",
       "    <tr>\n",
       "      <th>Rajiv</th>\n",
       "      <td>3.0</td>\n",
       "      <td>4.0</td>\n",
       "      <td>NaN</td>\n",
       "      <td>2.0</td>\n",
       "      <td>4.0</td>\n",
       "    </tr>\n",
       "    <tr>\n",
       "      <th>Cathy</th>\n",
       "      <td>2.0</td>\n",
       "      <td>3.0</td>\n",
       "      <td>3.0</td>\n",
       "      <td>NaN</td>\n",
       "      <td>3.0</td>\n",
       "    </tr>\n",
       "    <tr>\n",
       "      <th>Jamie</th>\n",
       "      <td>3.0</td>\n",
       "      <td>NaN</td>\n",
       "      <td>2.0</td>\n",
       "      <td>2.0</td>\n",
       "      <td>4.0</td>\n",
       "    </tr>\n",
       "    <tr>\n",
       "      <th>Clara</th>\n",
       "      <td>2.0</td>\n",
       "      <td>2.0</td>\n",
       "      <td>4.0</td>\n",
       "      <td>5.0</td>\n",
       "      <td>2.0</td>\n",
       "    </tr>\n",
       "    <tr>\n",
       "      <th>Ben</th>\n",
       "      <td>4.0</td>\n",
       "      <td>NaN</td>\n",
       "      <td>1.0</td>\n",
       "      <td>4.0</td>\n",
       "      <td>5.0</td>\n",
       "    </tr>\n",
       "    <tr>\n",
       "      <th>Ming</th>\n",
       "      <td>3.0</td>\n",
       "      <td>1.0</td>\n",
       "      <td>5.0</td>\n",
       "      <td>2.0</td>\n",
       "      <td>NaN</td>\n",
       "    </tr>\n",
       "  </tbody>\n",
       "</table>\n",
       "</div>"
      ],
      "text/plain": [
       "         Rockys  Librettos  Little Italy  Joes  Cascarinos\n",
       "Harris      1.0        2.0           3.0   4.0         5.0\n",
       "Jess        NaN        4.0           2.0   NaN         5.0\n",
       "Madelyn     2.0        3.0           2.0   5.0         4.0\n",
       "Paul        5.0        NaN           4.0   3.0         NaN\n",
       "Rajiv       3.0        4.0           NaN   2.0         4.0\n",
       "Cathy       2.0        3.0           3.0   NaN         3.0\n",
       "Jamie       3.0        NaN           2.0   2.0         4.0\n",
       "Clara       2.0        2.0           4.0   5.0         2.0\n",
       "Ben         4.0        NaN           1.0   4.0         5.0\n",
       "Ming        3.0        1.0           5.0   2.0         NaN"
      ]
     },
     "execution_count": 384,
     "metadata": {},
     "output_type": "execute_result"
    }
   ],
   "source": [
    "import pandas as pd;\n",
    "import numpy as np;\n",
    "import math\n",
    "from itertools import combinations_with_replacement\n",
    "\n",
    "# create data and load into dataframe\n",
    "d = {'Rockys':[1,np.nan,2,5,3,2,3,2,4,3], 'Librettos':[2,4,3,np.nan,4,3,np.nan,2,np.nan,1], 'Little Italy':[3,2,2,4,np.nan,3,2,4,1,5], 'Joes':[4,np.nan,5,3,2,np.nan,2,5,4,2], 'Cascarinos':[5,5,4,np.nan,4,3,4,2,5,np.nan]}\n",
    "df = pd.DataFrame(data=d, index = ['Harris', 'Jess', 'Madelyn','Paul','Rajiv','Cathy','Jamie','Clara','Ben','Ming'])\n",
    "\n",
    "df"
   ]
  },
  {
   "cell_type": "markdown",
   "metadata": {},
   "source": [
    "### Breaking data into separate trianing and test datasets"
   ]
  },
  {
   "cell_type": "code",
   "execution_count": 385,
   "metadata": {},
   "outputs": [
    {
     "data": {
      "text/html": [
       "<div>\n",
       "<style scoped>\n",
       "    .dataframe tbody tr th:only-of-type {\n",
       "        vertical-align: middle;\n",
       "    }\n",
       "\n",
       "    .dataframe tbody tr th {\n",
       "        vertical-align: top;\n",
       "    }\n",
       "\n",
       "    .dataframe thead th {\n",
       "        text-align: right;\n",
       "    }\n",
       "</style>\n",
       "<table border=\"1\" class=\"dataframe\">\n",
       "  <thead>\n",
       "    <tr style=\"text-align: right;\">\n",
       "      <th></th>\n",
       "      <th>Rockys</th>\n",
       "      <th>Librettos</th>\n",
       "      <th>Little Italy</th>\n",
       "      <th>Joes</th>\n",
       "      <th>Cascarinos</th>\n",
       "    </tr>\n",
       "  </thead>\n",
       "  <tbody>\n",
       "    <tr>\n",
       "      <th>Harris</th>\n",
       "      <td>1.0</td>\n",
       "      <td>2.0</td>\n",
       "      <td>3.0</td>\n",
       "      <td>NaN</td>\n",
       "      <td>5.0</td>\n",
       "    </tr>\n",
       "    <tr>\n",
       "      <th>Jess</th>\n",
       "      <td>NaN</td>\n",
       "      <td>4.0</td>\n",
       "      <td>2.0</td>\n",
       "      <td>NaN</td>\n",
       "      <td>5.0</td>\n",
       "    </tr>\n",
       "    <tr>\n",
       "      <th>Madelyn</th>\n",
       "      <td>NaN</td>\n",
       "      <td>3.0</td>\n",
       "      <td>2.0</td>\n",
       "      <td>5.0</td>\n",
       "      <td>4.0</td>\n",
       "    </tr>\n",
       "    <tr>\n",
       "      <th>Paul</th>\n",
       "      <td>5.0</td>\n",
       "      <td>NaN</td>\n",
       "      <td>4.0</td>\n",
       "      <td>3.0</td>\n",
       "      <td>NaN</td>\n",
       "    </tr>\n",
       "    <tr>\n",
       "      <th>Rajiv</th>\n",
       "      <td>3.0</td>\n",
       "      <td>4.0</td>\n",
       "      <td>NaN</td>\n",
       "      <td>2.0</td>\n",
       "      <td>NaN</td>\n",
       "    </tr>\n",
       "    <tr>\n",
       "      <th>Cathy</th>\n",
       "      <td>2.0</td>\n",
       "      <td>3.0</td>\n",
       "      <td>NaN</td>\n",
       "      <td>NaN</td>\n",
       "      <td>3.0</td>\n",
       "    </tr>\n",
       "    <tr>\n",
       "      <th>Jamie</th>\n",
       "      <td>3.0</td>\n",
       "      <td>NaN</td>\n",
       "      <td>2.0</td>\n",
       "      <td>2.0</td>\n",
       "      <td>4.0</td>\n",
       "    </tr>\n",
       "    <tr>\n",
       "      <th>Clara</th>\n",
       "      <td>2.0</td>\n",
       "      <td>NaN</td>\n",
       "      <td>4.0</td>\n",
       "      <td>5.0</td>\n",
       "      <td>2.0</td>\n",
       "    </tr>\n",
       "    <tr>\n",
       "      <th>Ben</th>\n",
       "      <td>4.0</td>\n",
       "      <td>NaN</td>\n",
       "      <td>1.0</td>\n",
       "      <td>4.0</td>\n",
       "      <td>5.0</td>\n",
       "    </tr>\n",
       "    <tr>\n",
       "      <th>Ming</th>\n",
       "      <td>3.0</td>\n",
       "      <td>1.0</td>\n",
       "      <td>5.0</td>\n",
       "      <td>2.0</td>\n",
       "      <td>NaN</td>\n",
       "    </tr>\n",
       "  </tbody>\n",
       "</table>\n",
       "</div>"
      ],
      "text/plain": [
       "         Rockys  Librettos  Little Italy  Joes  Cascarinos\n",
       "Harris      1.0        2.0           3.0   NaN         5.0\n",
       "Jess        NaN        4.0           2.0   NaN         5.0\n",
       "Madelyn     NaN        3.0           2.0   5.0         4.0\n",
       "Paul        5.0        NaN           4.0   3.0         NaN\n",
       "Rajiv       3.0        4.0           NaN   2.0         NaN\n",
       "Cathy       2.0        3.0           NaN   NaN         3.0\n",
       "Jamie       3.0        NaN           2.0   2.0         4.0\n",
       "Clara       2.0        NaN           4.0   5.0         2.0\n",
       "Ben         4.0        NaN           1.0   4.0         5.0\n",
       "Ming        3.0        1.0           5.0   2.0         NaN"
      ]
     },
     "execution_count": 385,
     "metadata": {},
     "output_type": "execute_result"
    }
   ],
   "source": [
    "# create copies of df to work with as training and test sets\n",
    "train_set_df = df.copy()\n",
    "df_copy = df.copy()\n",
    "\n",
    "# create a dataframe of randomly selected test values from each item\n",
    "test_values = [df_copy.at[\"Madelyn\", \"Rockys\"],df_copy.at[\"Clara\", \"Librettos\"],df_copy.at[\"Cathy\", \"Little Italy\"],df_copy.at[\"Harris\", \"Joes\"],df_copy.at[\"Rajiv\", \"Cascarinos\"]]\n",
    "test_index = ['MadelynRockys', 'ClaraLibrettos', 'CathyLittleItaly','HarrisJoes','RajivCascarinos']\n",
    "test_set_df = pd.DataFrame(data=test_values,index=test_index,columns=[\"Rating\"])\n",
    "\n",
    "# remove test set values from the training set df by assigning to NaN\n",
    "train_set_df.at[\"Madelyn\", \"Rockys\"] = np.NaN\n",
    "train_set_df.at[\"Clara\", \"Librettos\"] = np.NaN\n",
    "train_set_df.at[\"Cathy\", \"Little Italy\"] = np.NaN\n",
    "train_set_df.at[\"Harris\", \"Joes\"] = np.NaN\n",
    "train_set_df.at[\"Rajiv\", \"Cascarinos\"] = np.NaN\n",
    "\n",
    "train_set_df"
   ]
  },
  {
   "cell_type": "code",
   "execution_count": 386,
   "metadata": {},
   "outputs": [
    {
     "data": {
      "text/html": [
       "<div>\n",
       "<style scoped>\n",
       "    .dataframe tbody tr th:only-of-type {\n",
       "        vertical-align: middle;\n",
       "    }\n",
       "\n",
       "    .dataframe tbody tr th {\n",
       "        vertical-align: top;\n",
       "    }\n",
       "\n",
       "    .dataframe thead th {\n",
       "        text-align: right;\n",
       "    }\n",
       "</style>\n",
       "<table border=\"1\" class=\"dataframe\">\n",
       "  <thead>\n",
       "    <tr style=\"text-align: right;\">\n",
       "      <th></th>\n",
       "      <th>Rating</th>\n",
       "    </tr>\n",
       "  </thead>\n",
       "  <tbody>\n",
       "    <tr>\n",
       "      <th>MadelynRockys</th>\n",
       "      <td>2.0</td>\n",
       "    </tr>\n",
       "    <tr>\n",
       "      <th>ClaraLibrettos</th>\n",
       "      <td>2.0</td>\n",
       "    </tr>\n",
       "    <tr>\n",
       "      <th>CathyLittleItaly</th>\n",
       "      <td>3.0</td>\n",
       "    </tr>\n",
       "    <tr>\n",
       "      <th>HarrisJoes</th>\n",
       "      <td>4.0</td>\n",
       "    </tr>\n",
       "    <tr>\n",
       "      <th>RajivCascarinos</th>\n",
       "      <td>4.0</td>\n",
       "    </tr>\n",
       "  </tbody>\n",
       "</table>\n",
       "</div>"
      ],
      "text/plain": [
       "                  Rating\n",
       "MadelynRockys        2.0\n",
       "ClaraLibrettos       2.0\n",
       "CathyLittleItaly     3.0\n",
       "HarrisJoes           4.0\n",
       "RajivCascarinos      4.0"
      ]
     },
     "execution_count": 386,
     "metadata": {},
     "output_type": "execute_result"
    }
   ],
   "source": [
    "test_set_df"
   ]
  },
  {
   "cell_type": "markdown",
   "metadata": {},
   "source": [
    "### Calculating the raw average"
   ]
  },
  {
   "cell_type": "code",
   "execution_count": 387,
   "metadata": {},
   "outputs": [
    {
     "data": {
      "text/plain": [
       "3.167"
      ]
     },
     "execution_count": 387,
     "metadata": {},
     "output_type": "execute_result"
    }
   ],
   "source": [
    "# calculate the raw average for the training dataset\n",
    "mean_train = train_set_df.stack().mean()\n",
    "\n",
    "round(mean_train,3) "
   ]
  },
  {
   "cell_type": "markdown",
   "metadata": {},
   "source": [
    "### Finding the RSME for the training and test sets"
   ]
  },
  {
   "cell_type": "code",
   "execution_count": 388,
   "metadata": {},
   "outputs": [
    {
     "data": {
      "text/plain": [
       "1.258"
      ]
     },
     "execution_count": 388,
     "metadata": {},
     "output_type": "execute_result"
    }
   ],
   "source": [
    "def subtract_mean_and_square(x):\n",
    "    # Function will subtract the mean of the training set mean_train and square the result for each cell\n",
    "    return (x-mean_train)**2\n",
    "\n",
    "rsme_train = math.sqrt(train_set_df.apply(subtract_mean_and_square).stack().mean())\n",
    "rsme_test = math.sqrt(test_set_df.apply(subtract_mean_and_square).mean())\n",
    "\n",
    "round(rsme_train,3)"
   ]
  },
  {
   "cell_type": "code",
   "execution_count": 389,
   "metadata": {},
   "outputs": [
    {
     "data": {
      "text/plain": [
       "0.91"
      ]
     },
     "execution_count": 389,
     "metadata": {},
     "output_type": "execute_result"
    }
   ],
   "source": [
    "round(rsme_test,3)"
   ]
  },
  {
   "cell_type": "markdown",
   "metadata": {},
   "source": [
    "### Calculating the user bias and item bias values"
   ]
  },
  {
   "cell_type": "code",
   "execution_count": 390,
   "metadata": {},
   "outputs": [
    {
     "data": {
      "text/plain": [
       "Harris    -0.417\n",
       "Jess       0.500\n",
       "Madelyn    0.333\n",
       "Paul       0.833\n",
       "Rajiv     -0.167\n",
       "Cathy     -0.500\n",
       "Jamie     -0.417\n",
       "Clara      0.083\n",
       "Ben        0.333\n",
       "Ming      -0.417\n",
       "dtype: float64"
      ]
     },
     "execution_count": 390,
     "metadata": {},
     "output_type": "execute_result"
    }
   ],
   "source": [
    "user_bias_df = train_set_df.mean(axis=1) - mean_train\n",
    "\n",
    "user_bias_df.round(3)"
   ]
  },
  {
   "cell_type": "code",
   "execution_count": 391,
   "metadata": {},
   "outputs": [
    {
     "data": {
      "text/plain": [
       "Rockys         -0.292\n",
       "Librettos      -0.333\n",
       "Little Italy   -0.292\n",
       "Joes            0.119\n",
       "Cascarinos      0.833\n",
       "dtype: float64"
      ]
     },
     "execution_count": 391,
     "metadata": {},
     "output_type": "execute_result"
    }
   ],
   "source": [
    "item_bias_df = train_set_df.mean() - mean_train\n",
    "\n",
    "item_bias_df.round(3)"
   ]
  },
  {
   "cell_type": "markdown",
   "metadata": {},
   "source": [
    "### Calculating the baseline predictors"
   ]
  },
  {
   "cell_type": "code",
   "execution_count": 392,
   "metadata": {},
   "outputs": [
    {
     "data": {
      "text/html": [
       "<div>\n",
       "<style scoped>\n",
       "    .dataframe tbody tr th:only-of-type {\n",
       "        vertical-align: middle;\n",
       "    }\n",
       "\n",
       "    .dataframe tbody tr th {\n",
       "        vertical-align: top;\n",
       "    }\n",
       "\n",
       "    .dataframe thead th {\n",
       "        text-align: right;\n",
       "    }\n",
       "</style>\n",
       "<table border=\"1\" class=\"dataframe\">\n",
       "  <thead>\n",
       "    <tr style=\"text-align: right;\">\n",
       "      <th></th>\n",
       "      <th>Rockys</th>\n",
       "      <th>Librettos</th>\n",
       "      <th>Little Italy</th>\n",
       "      <th>Joes</th>\n",
       "      <th>Cascarinos</th>\n",
       "    </tr>\n",
       "  </thead>\n",
       "  <tbody>\n",
       "    <tr>\n",
       "      <th>Harris</th>\n",
       "      <td>2.458333</td>\n",
       "      <td>2.416667</td>\n",
       "      <td>2.458333</td>\n",
       "      <td>2.869048</td>\n",
       "      <td>3.583333</td>\n",
       "    </tr>\n",
       "    <tr>\n",
       "      <th>Jess</th>\n",
       "      <td>3.375000</td>\n",
       "      <td>3.333333</td>\n",
       "      <td>3.375000</td>\n",
       "      <td>3.785714</td>\n",
       "      <td>4.500000</td>\n",
       "    </tr>\n",
       "    <tr>\n",
       "      <th>Madelyn</th>\n",
       "      <td>3.208333</td>\n",
       "      <td>3.166667</td>\n",
       "      <td>3.208333</td>\n",
       "      <td>3.619048</td>\n",
       "      <td>4.333333</td>\n",
       "    </tr>\n",
       "    <tr>\n",
       "      <th>Paul</th>\n",
       "      <td>3.708333</td>\n",
       "      <td>3.666667</td>\n",
       "      <td>3.708333</td>\n",
       "      <td>4.119048</td>\n",
       "      <td>4.833333</td>\n",
       "    </tr>\n",
       "    <tr>\n",
       "      <th>Rajiv</th>\n",
       "      <td>2.708333</td>\n",
       "      <td>2.666667</td>\n",
       "      <td>2.708333</td>\n",
       "      <td>3.119048</td>\n",
       "      <td>3.833333</td>\n",
       "    </tr>\n",
       "    <tr>\n",
       "      <th>Cathy</th>\n",
       "      <td>2.375000</td>\n",
       "      <td>2.333333</td>\n",
       "      <td>2.375000</td>\n",
       "      <td>2.785714</td>\n",
       "      <td>3.500000</td>\n",
       "    </tr>\n",
       "    <tr>\n",
       "      <th>Jamie</th>\n",
       "      <td>2.458333</td>\n",
       "      <td>2.416667</td>\n",
       "      <td>2.458333</td>\n",
       "      <td>2.869048</td>\n",
       "      <td>3.583333</td>\n",
       "    </tr>\n",
       "    <tr>\n",
       "      <th>Clara</th>\n",
       "      <td>2.958333</td>\n",
       "      <td>2.916667</td>\n",
       "      <td>2.958333</td>\n",
       "      <td>3.369048</td>\n",
       "      <td>4.083333</td>\n",
       "    </tr>\n",
       "    <tr>\n",
       "      <th>Ben</th>\n",
       "      <td>3.208333</td>\n",
       "      <td>3.166667</td>\n",
       "      <td>3.208333</td>\n",
       "      <td>3.619048</td>\n",
       "      <td>4.333333</td>\n",
       "    </tr>\n",
       "    <tr>\n",
       "      <th>Ming</th>\n",
       "      <td>2.458333</td>\n",
       "      <td>2.416667</td>\n",
       "      <td>2.458333</td>\n",
       "      <td>2.869048</td>\n",
       "      <td>3.583333</td>\n",
       "    </tr>\n",
       "  </tbody>\n",
       "</table>\n",
       "</div>"
      ],
      "text/plain": [
       "           Rockys  Librettos  Little Italy      Joes  Cascarinos\n",
       "Harris   2.458333   2.416667      2.458333  2.869048    3.583333\n",
       "Jess     3.375000   3.333333      3.375000  3.785714    4.500000\n",
       "Madelyn  3.208333   3.166667      3.208333  3.619048    4.333333\n",
       "Paul     3.708333   3.666667      3.708333  4.119048    4.833333\n",
       "Rajiv    2.708333   2.666667      2.708333  3.119048    3.833333\n",
       "Cathy    2.375000   2.333333      2.375000  2.785714    3.500000\n",
       "Jamie    2.458333   2.416667      2.458333  2.869048    3.583333\n",
       "Clara    2.958333   2.916667      2.958333  3.369048    4.083333\n",
       "Ben      3.208333   3.166667      3.208333  3.619048    4.333333\n",
       "Ming     2.458333   2.416667      2.458333  2.869048    3.583333"
      ]
     },
     "execution_count": 392,
     "metadata": {},
     "output_type": "execute_result"
    }
   ],
   "source": [
    "train_set_blp = train_set_df.copy()\n",
    "\n",
    "# save the column and index names of train_set_blp\n",
    "columns_blp = train_set_blp.columns\n",
    "index_blp = train_set_blp.index\n",
    "\n",
    "# set columns and indexes to integers for easy loop iteration\n",
    "train_set_blp.columns = [0,1,2,3,4]\n",
    "train_set_blp.index = [0,1,2,3,4,5,6,7,8,9]\n",
    "item_bias_df.index = [0,1,2,3,4]\n",
    "user_bias_df.index = [0,1,2,3,4,5,6,7,8,9]\n",
    "\n",
    "# loop through and sum each combination of user bias and item bias and the raw average\n",
    "for i in range(10):\n",
    "    for j in range(5):\n",
    "        train_set_blp.at[i,j] = mean_train + user_bias_df.at[i] + item_bias_df.at[j] \n",
    "\n",
    "# reset train_set_blp column and row names\n",
    "train_set_blp.columns = columns_blp\n",
    "train_set_blp.index = index_blp\n",
    "\n",
    "# display baseline predictors for every user-item combination\n",
    "train_set_blp "
   ]
  },
  {
   "cell_type": "markdown",
   "metadata": {},
   "source": [
    "### Calculate the RSME for the baseline predictors for training and test data"
   ]
  },
  {
   "cell_type": "code",
   "execution_count": 393,
   "metadata": {},
   "outputs": [
    {
     "data": {
      "text/html": [
       "<div>\n",
       "<style scoped>\n",
       "    .dataframe tbody tr th:only-of-type {\n",
       "        vertical-align: middle;\n",
       "    }\n",
       "\n",
       "    .dataframe tbody tr th {\n",
       "        vertical-align: top;\n",
       "    }\n",
       "\n",
       "    .dataframe thead th {\n",
       "        text-align: right;\n",
       "    }\n",
       "</style>\n",
       "<table border=\"1\" class=\"dataframe\">\n",
       "  <thead>\n",
       "    <tr style=\"text-align: right;\">\n",
       "      <th></th>\n",
       "      <th>0</th>\n",
       "      <th>1</th>\n",
       "      <th>2</th>\n",
       "      <th>3</th>\n",
       "      <th>4</th>\n",
       "    </tr>\n",
       "  </thead>\n",
       "  <tbody>\n",
       "    <tr>\n",
       "      <th>0</th>\n",
       "      <td>2.126736</td>\n",
       "      <td>0.173611</td>\n",
       "      <td>0.293403</td>\n",
       "      <td>NaN</td>\n",
       "      <td>2.006944</td>\n",
       "    </tr>\n",
       "    <tr>\n",
       "      <th>1</th>\n",
       "      <td>NaN</td>\n",
       "      <td>0.444444</td>\n",
       "      <td>1.890625</td>\n",
       "      <td>NaN</td>\n",
       "      <td>0.250000</td>\n",
       "    </tr>\n",
       "    <tr>\n",
       "      <th>2</th>\n",
       "      <td>NaN</td>\n",
       "      <td>0.027778</td>\n",
       "      <td>1.460069</td>\n",
       "      <td>1.907029</td>\n",
       "      <td>0.111111</td>\n",
       "    </tr>\n",
       "    <tr>\n",
       "      <th>3</th>\n",
       "      <td>1.668403</td>\n",
       "      <td>NaN</td>\n",
       "      <td>0.085069</td>\n",
       "      <td>1.252268</td>\n",
       "      <td>NaN</td>\n",
       "    </tr>\n",
       "    <tr>\n",
       "      <th>4</th>\n",
       "      <td>0.085069</td>\n",
       "      <td>1.777778</td>\n",
       "      <td>NaN</td>\n",
       "      <td>1.252268</td>\n",
       "      <td>NaN</td>\n",
       "    </tr>\n",
       "    <tr>\n",
       "      <th>5</th>\n",
       "      <td>0.140625</td>\n",
       "      <td>0.444444</td>\n",
       "      <td>NaN</td>\n",
       "      <td>NaN</td>\n",
       "      <td>0.250000</td>\n",
       "    </tr>\n",
       "    <tr>\n",
       "      <th>6</th>\n",
       "      <td>0.293403</td>\n",
       "      <td>NaN</td>\n",
       "      <td>0.210069</td>\n",
       "      <td>0.755244</td>\n",
       "      <td>0.173611</td>\n",
       "    </tr>\n",
       "    <tr>\n",
       "      <th>7</th>\n",
       "      <td>0.918403</td>\n",
       "      <td>NaN</td>\n",
       "      <td>1.085069</td>\n",
       "      <td>2.660006</td>\n",
       "      <td>4.340278</td>\n",
       "    </tr>\n",
       "    <tr>\n",
       "      <th>8</th>\n",
       "      <td>0.626736</td>\n",
       "      <td>NaN</td>\n",
       "      <td>4.876736</td>\n",
       "      <td>0.145125</td>\n",
       "      <td>0.444444</td>\n",
       "    </tr>\n",
       "    <tr>\n",
       "      <th>9</th>\n",
       "      <td>0.293403</td>\n",
       "      <td>2.006944</td>\n",
       "      <td>6.460069</td>\n",
       "      <td>0.755244</td>\n",
       "      <td>NaN</td>\n",
       "    </tr>\n",
       "  </tbody>\n",
       "</table>\n",
       "</div>"
      ],
      "text/plain": [
       "          0         1         2         3         4\n",
       "0  2.126736  0.173611  0.293403       NaN  2.006944\n",
       "1       NaN  0.444444  1.890625       NaN  0.250000\n",
       "2       NaN  0.027778  1.460069  1.907029  0.111111\n",
       "3  1.668403       NaN  0.085069  1.252268       NaN\n",
       "4  0.085069  1.777778       NaN  1.252268       NaN\n",
       "5  0.140625  0.444444       NaN       NaN  0.250000\n",
       "6  0.293403       NaN  0.210069  0.755244  0.173611\n",
       "7  0.918403       NaN  1.085069  2.660006  4.340278\n",
       "8  0.626736       NaN  4.876736  0.145125  0.444444\n",
       "9  0.293403  2.006944  6.460069  0.755244       NaN"
      ]
     },
     "execution_count": 393,
     "metadata": {},
     "output_type": "execute_result"
    }
   ],
   "source": [
    "train_set_blp_rsme = pd.DataFrame()\n",
    "\n",
    "# set columns and indexes to integers for easy loop iteration\n",
    "train_set_blp.columns = [0,1,2,3,4]\n",
    "train_set_blp.index = [0,1,2,3,4,5,6,7,8,9]\n",
    "train_set_df.columns = [0,1,2,3,4]\n",
    "train_set_df.index = [0,1,2,3,4,5,6,7,8,9]\n",
    "\n",
    "for i in range(10):\n",
    "    for j in range(5):\n",
    "        train_set_blp_rsme.at[i,j] = (train_set_df.at[i,j] - train_set_blp.at[i,j])**2\n",
    "\n",
    "train_set_blp_rsme"
   ]
  },
  {
   "cell_type": "code",
   "execution_count": 394,
   "metadata": {},
   "outputs": [
    {
     "data": {
      "text/plain": [
       "1.102"
      ]
     },
     "execution_count": 394,
     "metadata": {},
     "output_type": "execute_result"
    }
   ],
   "source": [
    "# finishe RSME calculation using baseline predictor values\n",
    "train_blp_rsme = math.sqrt(train_set_blp_rsme.stack().mean())\n",
    "\n",
    "# display training set baseline predictor RSME\n",
    "round(train_blp_rsme,3)"
   ]
  },
  {
   "cell_type": "code",
   "execution_count": 395,
   "metadata": {},
   "outputs": [],
   "source": [
    "# extract baseline predictor values for test from train_set_blp\n",
    "df2_copy = train_set_blp.copy()\n",
    "df2_copy.columns = columns_blp\n",
    "df2_copy.index = index_blp\n",
    "\n",
    "# add a column of baseline predictor values to test dataframe\n",
    "test_blp_values = [df2_copy.at[\"Madelyn\", \"Rockys\"],df2_copy.at[\"Clara\", \"Librettos\"],df2_copy.at[\"Cathy\", \"Little Italy\"],df2_copy.at[\"Harris\", \"Joes\"],df2_copy.at[\"Rajiv\", \"Cascarinos\"]]\n",
    "test_set_df['Baseline Predictor'] = test_blp_values\n",
    "\n",
    "# add an RMSE calculation column by squaring the result of subtracting the rating from the baseline predictor value of the test combinations\n",
    "test_set_df['RMSE Calc'] = (test_set_df['Rating'] - test_set_df['Baseline Predictor'])**2"
   ]
  },
  {
   "cell_type": "code",
   "execution_count": 396,
   "metadata": {},
   "outputs": [
    {
     "data": {
      "text/html": [
       "<div>\n",
       "<style scoped>\n",
       "    .dataframe tbody tr th:only-of-type {\n",
       "        vertical-align: middle;\n",
       "    }\n",
       "\n",
       "    .dataframe tbody tr th {\n",
       "        vertical-align: top;\n",
       "    }\n",
       "\n",
       "    .dataframe thead th {\n",
       "        text-align: right;\n",
       "    }\n",
       "</style>\n",
       "<table border=\"1\" class=\"dataframe\">\n",
       "  <thead>\n",
       "    <tr style=\"text-align: right;\">\n",
       "      <th></th>\n",
       "      <th>Rating</th>\n",
       "      <th>Baseline Predictor</th>\n",
       "      <th>RMSE Calc</th>\n",
       "    </tr>\n",
       "  </thead>\n",
       "  <tbody>\n",
       "    <tr>\n",
       "      <th>MadelynRockys</th>\n",
       "      <td>2.0</td>\n",
       "      <td>3.208333</td>\n",
       "      <td>1.460069</td>\n",
       "    </tr>\n",
       "    <tr>\n",
       "      <th>ClaraLibrettos</th>\n",
       "      <td>2.0</td>\n",
       "      <td>2.916667</td>\n",
       "      <td>0.840278</td>\n",
       "    </tr>\n",
       "    <tr>\n",
       "      <th>CathyLittleItaly</th>\n",
       "      <td>3.0</td>\n",
       "      <td>2.375000</td>\n",
       "      <td>0.390625</td>\n",
       "    </tr>\n",
       "    <tr>\n",
       "      <th>HarrisJoes</th>\n",
       "      <td>4.0</td>\n",
       "      <td>2.869048</td>\n",
       "      <td>1.279053</td>\n",
       "    </tr>\n",
       "    <tr>\n",
       "      <th>RajivCascarinos</th>\n",
       "      <td>4.0</td>\n",
       "      <td>3.833333</td>\n",
       "      <td>0.027778</td>\n",
       "    </tr>\n",
       "  </tbody>\n",
       "</table>\n",
       "</div>"
      ],
      "text/plain": [
       "                  Rating  Baseline Predictor  RMSE Calc\n",
       "MadelynRockys        2.0            3.208333   1.460069\n",
       "ClaraLibrettos       2.0            2.916667   0.840278\n",
       "CathyLittleItaly     3.0            2.375000   0.390625\n",
       "HarrisJoes           4.0            2.869048   1.279053\n",
       "RajivCascarinos      4.0            3.833333   0.027778"
      ]
     },
     "execution_count": 396,
     "metadata": {},
     "output_type": "execute_result"
    }
   ],
   "source": [
    "test_set_df"
   ]
  },
  {
   "cell_type": "code",
   "execution_count": 397,
   "metadata": {},
   "outputs": [
    {
     "data": {
      "text/plain": [
       "0.894"
      ]
     },
     "execution_count": 397,
     "metadata": {},
     "output_type": "execute_result"
    }
   ],
   "source": [
    "# complete the RSME calculation on the RSME Calc column\n",
    "test_blp_rsme = math.sqrt(test_set_df['RMSE Calc'].mean())\n",
    "# display test set baseline predictor RSME\n",
    "round(test_blp_rsme,3)"
   ]
  },
  {
   "cell_type": "markdown",
   "metadata": {},
   "source": [
    "## Summary\n",
    "\n",
    "Our initial training RSME was 1.258 while the initial test RSME was 0.91.\n",
    "\n",
    "Baseline predictor RSME was 1.102 for the training set and 0.894 for the test set."
   ]
  },
  {
   "cell_type": "code",
   "execution_count": 398,
   "metadata": {},
   "outputs": [
    {
     "name": "stdout",
     "output_type": "stream",
     "text": [
      "12.401 %\n",
      "1.758 %\n"
     ]
    }
   ],
   "source": [
    "percent_improve_training = (1 - (1.102/1.258))*100\n",
    "percent_improve_test = (1 - (0.894/0.91))*100\n",
    "\n",
    "print(round(percent_improve_training,3),\"%\")\n",
    "print(round(percent_improve_test,3),\"%\")"
   ]
  },
  {
   "cell_type": "markdown",
   "metadata": {},
   "source": [
    "Our predictions were 12% better by using baseline predictor RSME for the training set while only 1.76% better by using the baseline predictor RSME for the test set."
   ]
  }
 ],
 "metadata": {
  "kernelspec": {
   "display_name": "Python 3",
   "language": "python",
   "name": "python3"
  },
  "language_info": {
   "codemirror_mode": {
    "name": "ipython",
    "version": 3
   },
   "file_extension": ".py",
   "mimetype": "text/x-python",
   "name": "python",
   "nbconvert_exporter": "python",
   "pygments_lexer": "ipython3",
   "version": "3.7.6"
  }
 },
 "nbformat": 4,
 "nbformat_minor": 4
}
