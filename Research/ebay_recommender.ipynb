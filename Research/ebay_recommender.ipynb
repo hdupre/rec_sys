{
 "cells": [
  {
   "cell_type": "markdown",
   "metadata": {},
   "source": [
    "## EBay Recommender System\n",
    "\n",
    "The eBay product recommendations page recommends multiple different categories of products based on a user's perceived interests and previous searches.\n",
    "\n",
    "I mostly use eBay to buy electronics, so the displayed items in the \"Today's Deals\" banner and other recommended categories such as \"Home Speakers and Subwoofers\" are all kind of consumer electronic.\n",
    "\n",
    "EBay also has ratings systems for products, sellers, and buyers, which can be used to show preferences and filter off low quality products.\n",
    "\n",
    "The product recommendations are likely the result of a hybrid recommendation system that uses user rating data, item similarity scores, and user search history to output recommendations that are relevant to different categories.\n",
    "\n",
    "The most prominent items on the eBay home page (which is the recommendation) are items that were recently viewed. EBay could be conscious that a user is most likely to complete a purchase on an item they have already researched.\n",
    "\n",
    "### Pros of the system\n",
    "\n",
    "The eBay recommendation page is easy to navigate, the reasons for and categories of the recommendations are easy to see, and the recommendations are generally of some interest to me.\n",
    "\n",
    "### Cons of the system\n",
    "\n",
    "Many of the recommendations are duplicates with only slight variations in price. For example, I looked at GoPro Hero 8s sometime recently, so one section of recommendations is all Go Pro cameras. The recommender system should at least try to diversify product listings in a category a bit to catch a wider range of customer price ranges, accessory interest, etc.\n",
    "\n",
    "Perhaps more emphasis on similar items, rather than the \"Hero 8\" keyword, would allow for sufficiently diverse recomendations.\n",
    "\n",
    "### Attacks on recommenders\n",
    "\n",
    "Similar to the IMDB example of users flooding ratings to purposely reduce a film's standing, a comedy special by Amy Schumer was reportedly heavily downvoted by those seeking to have the program fail. Netflix's five-star recommendation system, which had been in place since its inception, was replaced with the current \"thumbs up/thumbs down\" system. Rumor had it that this attack was part of the reason for that change, but it's likely that such a major change was planned months or years in advance and was going to happen anyway.\n",
    "\n",
    "Recommender systems could reduce instances of non-genuine recommendations by ensuring that the user voting has already consumed the content they're voting on, particularly when the content is new and there's little or no chance that the user has watched it elswhere.\n",
    "\n"
   ]
  },
  {
   "cell_type": "code",
   "execution_count": null,
   "metadata": {},
   "outputs": [],
   "source": []
  }
 ],
 "metadata": {
  "kernelspec": {
   "display_name": "Python 3",
   "language": "python",
   "name": "python3"
  },
  "language_info": {
   "codemirror_mode": {
    "name": "ipython",
    "version": 3
   },
   "file_extension": ".py",
   "mimetype": "text/x-python",
   "name": "python",
   "nbconvert_exporter": "python",
   "pygments_lexer": "ipython3",
   "version": "3.7.6"
  }
 },
 "nbformat": 4,
 "nbformat_minor": 4
}
