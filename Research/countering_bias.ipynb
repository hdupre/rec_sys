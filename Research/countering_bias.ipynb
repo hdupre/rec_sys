{
 "cells": [
  {
   "cell_type": "markdown",
   "metadata": {},
   "source": [
    "# Countering the radicalizing effects of recommender systems\n",
    "### Harris Dupre\n",
    "### Summer 2020, Data 612\n",
    "\n",
    "### The responsibility of recommender systems\n",
    "\n",
    "I think it's important to bring up when discussing this is that problems don't come from bad recommendations, but come from bad behavior that has gained an undeserved confidence from a bad recommendation.\n",
    "\n",
    "People, especially those in power, are responsible for understanding the limitations of any recommender system and to use them only as one tool of the many we have available for us when we make a decision.\n",
    "\n",
    "### Sources of radicalization\n",
    "\n",
    "In the YouTube as a radicalizer article (https://www.nytimes.com/2018/03/10/opinion/sunday/youtube-politics-radical.html) the writer makes the point that bad ideas online are like junk food, when humans get started we want more and more for as long as it's being served up to us.\n",
    "\n",
    "Except the food analogy is not true for all people, and neither is it true that anyone is susceptible to radicalization by the YouTube. Perhaps energy would be better spent analyzing and addressing why certain people are susceptible to radicalization. And who is creating the content we find problematic.\n",
    "\n",
    "The issue with blaming the algorithm is that it's a band-aid, YouTube could cease all recommendations tomorrow and some people would still seek out and consume radical content. It's also impossible to say whether or not someone who was radicalized on YouTube would have been fine otherwise, though articles by the Times that have heavily implied that some affected people were angels before they fell down right-wing YouTube rabbit holes. In data science, we have to remember that correlation does not equal causation.\n",
    "\n",
    "### Solutions\n",
    "\n",
    "YouTube frequently bans certain creators but the effectiveness is questionable as there's the potential for the fanbase to see this as an attack on their ideology, which just radicalizes them further. The banned creator also usually gets significant press and even credibility in their space by receiving a ban.\n",
    "\n",
    "It's also apparent that many of the companies that control massively influential content recommenders don't really care, or at least not enough that they will put resources toward fixing the problem. Hours-long YouTube rabbitholes make more money than a moderated and balanced intake of political content, so YouTube is heavily disincentivized to look too long at it.\n",
    "\n",
    "Why are people so easy to radicalize? What resources do they have to address this if they want to do something about it? Who is creating the content and organizing the groups, and what is their motivation? These are difficult, expensive, and multi-facted issues which are clearly harder than pointing a finger at the nearest tech giant and blaming them for all societal ills."
   ]
  },
  {
   "cell_type": "code",
   "execution_count": null,
   "metadata": {},
   "outputs": [],
   "source": []
  }
 ],
 "metadata": {
  "kernelspec": {
   "display_name": "Python 3",
   "language": "python",
   "name": "python3"
  },
  "language_info": {
   "codemirror_mode": {
    "name": "ipython",
    "version": 3
   },
   "file_extension": ".py",
   "mimetype": "text/x-python",
   "name": "python",
   "nbconvert_exporter": "python",
   "pygments_lexer": "ipython3",
   "version": "3.7.6"
  }
 },
 "nbformat": 4,
 "nbformat_minor": 4
}
