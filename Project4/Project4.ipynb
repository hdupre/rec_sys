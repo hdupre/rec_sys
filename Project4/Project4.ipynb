{
 "cells": [
  {
   "cell_type": "markdown",
   "metadata": {},
   "source": [
    "# Accuracy and Beyond\n",
    "## Harris Dupre\n",
    "## Data 612, Summer 2020\n",
    "\n",
    "### Introduction\n",
    "\n",
    "In this project we will attempt to measure the accuracy of three separate recommender system algorithms: singular value decomposition, user-based collaborative filtering, and item-based collaborative filtering.\n",
    "\n",
    "This project will make use of the library scikit Surprise:\n",
    "https://surprise.readthedocs.io/en/stable/index.html#\n",
    "\n",
    "This library comes with built in recommender algorithm methods as well as accuracy evaluation methods."
   ]
  },
  {
   "cell_type": "code",
   "execution_count": 14,
   "metadata": {},
   "outputs": [],
   "source": [
    "# import libraries\n",
    "import pandas as pd\n",
    "import numpy as np\n",
    "import matplotlib.pyplot as plt\n",
    "import timeit\n",
    "from surprise import Reader, Dataset\n",
    "from surprise.model_selection import train_test_split\n",
    "from surprise import SVD, accuracy\n",
    "from surprise import KNNWithMeans"
   ]
  },
  {
   "cell_type": "markdown",
   "metadata": {},
   "source": [
    "### Data loading and analysis\n",
    "\n",
    "The data here comes from the goodbooks-10k dataset: https://github.com/zygmuntz/goodbooks-10k\n",
    "\n",
    "This set is an aggregation of six million ratings for ten thousands of the most rated books on GoodReads. Like the MovieLens dataset, the ratings.csv has three columns: user ID, book ID, and rating (scale 1-5).\n",
    "\n",
    "Because the dataset is prohibitively large (75mb and unable to be uploaded to a free GitHub repository) we will be working with a set of approximately 1.2 million ratings of these ratings that has been uploaded to my own repository."
   ]
  },
  {
   "cell_type": "code",
   "execution_count": 2,
   "metadata": {},
   "outputs": [
    {
     "data": {
      "text/html": [
       "<div>\n",
       "<style scoped>\n",
       "    .dataframe tbody tr th:only-of-type {\n",
       "        vertical-align: middle;\n",
       "    }\n",
       "\n",
       "    .dataframe tbody tr th {\n",
       "        vertical-align: top;\n",
       "    }\n",
       "\n",
       "    .dataframe thead th {\n",
       "        text-align: right;\n",
       "    }\n",
       "</style>\n",
       "<table border=\"1\" class=\"dataframe\">\n",
       "  <thead>\n",
       "    <tr style=\"text-align: right;\">\n",
       "      <th></th>\n",
       "      <th>user_id</th>\n",
       "      <th>book_id</th>\n",
       "      <th>rating</th>\n",
       "    </tr>\n",
       "  </thead>\n",
       "  <tbody>\n",
       "    <tr>\n",
       "      <th>0</th>\n",
       "      <td>1</td>\n",
       "      <td>258</td>\n",
       "      <td>5</td>\n",
       "    </tr>\n",
       "    <tr>\n",
       "      <th>1</th>\n",
       "      <td>2</td>\n",
       "      <td>4081</td>\n",
       "      <td>4</td>\n",
       "    </tr>\n",
       "    <tr>\n",
       "      <th>2</th>\n",
       "      <td>2</td>\n",
       "      <td>260</td>\n",
       "      <td>5</td>\n",
       "    </tr>\n",
       "    <tr>\n",
       "      <th>3</th>\n",
       "      <td>2</td>\n",
       "      <td>9296</td>\n",
       "      <td>5</td>\n",
       "    </tr>\n",
       "    <tr>\n",
       "      <th>4</th>\n",
       "      <td>2</td>\n",
       "      <td>2318</td>\n",
       "      <td>3</td>\n",
       "    </tr>\n",
       "  </tbody>\n",
       "</table>\n",
       "</div>"
      ],
      "text/plain": [
       "   user_id  book_id  rating\n",
       "0        1      258       5\n",
       "1        2     4081       4\n",
       "2        2      260       5\n",
       "3        2     9296       5\n",
       "4        2     2318       3"
      ]
     },
     "execution_count": 2,
     "metadata": {},
     "output_type": "execute_result"
    }
   ],
   "source": [
    "# load csv into a pandas dataframe\n",
    "ratings_df = pd.read_csv('https://raw.githubusercontent.com/hdupre/rec_sys/master/Project4/ratings.csv')\n",
    "\n",
    "ratings_df.head()"
   ]
  },
  {
   "cell_type": "code",
   "execution_count": 4,
   "metadata": {},
   "outputs": [
    {
     "data": {
      "text/plain": [
       "13123"
      ]
     },
     "execution_count": 4,
     "metadata": {},
     "output_type": "execute_result"
    }
   ],
   "source": [
    "# output number of unique users in our dataset\n",
    "ratings_df['user_id'].nunique()"
   ]
  },
  {
   "cell_type": "code",
   "execution_count": 5,
   "metadata": {},
   "outputs": [
    {
     "data": {
      "text/plain": [
       "7774"
      ]
     },
     "execution_count": 5,
     "metadata": {},
     "output_type": "execute_result"
    }
   ],
   "source": [
    "# output number of unique books in our dataset\n",
    "ratings_df['book_id'].nunique()"
   ]
  },
  {
   "cell_type": "code",
   "execution_count": 8,
   "metadata": {},
   "outputs": [
    {
     "data": {
      "image/png": "[encoded data removed]",
      "text/plain": [
       "<Figure size 432x288 with 1 Axes>"
      ]
     },
     "metadata": {
      "needs_background": "light"
     },
     "output_type": "display_data"
    }
   ],
   "source": [
    "rating_order = [5,4,3,2,1]\n",
    "ratings_df.rating.value_counts().loc[rating_order].plot(kind='bar', )\n",
    "plt.show()"
   ]
  },
  {
   "cell_type": "markdown",
   "metadata": {},
   "source": [
    "We can see that the vast majority of ratings are 3+, with 4 being the most numerous rating."
   ]
  },
  {
   "cell_type": "markdown",
   "metadata": {},
   "source": [
    "### Initiating the Surprise library reader and dataset methods\n",
    "\n",
    "Surprise comes with many familiar built-in datasets, such as Jester and MovieLens, but in this case we will load the book ratings as a custom dataset."
   ]
  },
  {
   "cell_type": "code",
   "execution_count": 9,
   "metadata": {},
   "outputs": [],
   "source": [
    "# create a reader that takes the rating scale as a parameter\n",
    "reader = Reader(rating_scale=(1,5))\n",
    "# use the load_from_df function to load our book ratings dataframe\n",
    "data = Dataset.load_from_df(ratings_df[['user_id', 'book_id','rating']], reader)"
   ]
  },
  {
   "cell_type": "markdown",
   "metadata": {},
   "source": [
    "### Splitting the data"
   ]
  },
  {
   "cell_type": "code",
   "execution_count": 11,
   "metadata": {},
   "outputs": [],
   "source": [
    "# split data into a training set and a test set with an 80/20 ratio\n",
    "trainset, testset = train_test_split(data, test_size=0.2)"
   ]
  },
  {
   "cell_type": "markdown",
   "metadata": {},
   "source": [
    "### Calling the recommender algorithms and training them on the data\n",
    "\n",
    "As stated in the introduction, we will be using SVD, UBCF, and IBCF algorithms to produce rating predictions. The UBCF and IBCF algorithms we will use will be \"with means,\" meaning that the mean rating of each user or item will be taken into consideration in the form of bias"
   ]
  },
  {
   "cell_type": "code",
   "execution_count": 16,
   "metadata": {},
   "outputs": [
    {
     "data": {
      "text/plain": [
       "-45.31880175900005"
      ]
     },
     "execution_count": 16,
     "metadata": {},
     "output_type": "execute_result"
    }
   ],
   "source": [
    "# setting sim_options for the KNNWithMeans function to distinguish between UBCF and IBCF.\n",
    "sim_options_ubcf = {'name':'cosine','user_based':True}\n",
    "sim_option_ibcf = {'name':'cosine','user_based':False}\n",
    "\n",
    "# assign each algorithm to a variable\n",
    "algo_svd = SVD()\n",
    "algo_ubcf = KNNWithMeans(sim_options=sim_options_ubcf)\n",
    "algo_ibcf = KNNWithMeans(sim_options=sim_option_ibcf)\n",
    "\n",
    "# train each algorithm with the training set\n",
    "# we wil use the timeit function to gauge how long each process takes\n",
    "tic = timeit.default_timer()\n",
    "algo_svd.fit(trainset)\n",
    "toc = timeit.default_timer()\n",
    "tic-toc"
   ]
  },
  {
   "cell_type": "code",
   "execution_count": 18,
   "metadata": {},
   "outputs": [
    {
     "name": "stdout",
     "output_type": "stream",
     "text": [
      "Computing the cosine similarity matrix...\n",
      "Done computing similarity matrix.\n"
     ]
    },
    {
     "data": {
      "text/plain": [
       "-112.837294509"
      ]
     },
     "execution_count": 18,
     "metadata": {},
     "output_type": "execute_result"
    }
   ],
   "source": [
    "tic = timeit.default_timer()\n",
    "algo_ubcf.fit(trainset)\n",
    "toc = timeit.default_timer()\n",
    "tic-toc"
   ]
  },
  {
   "cell_type": "code",
   "execution_count": 19,
   "metadata": {},
   "outputs": [
    {
     "name": "stdout",
     "output_type": "stream",
     "text": [
      "Computing the cosine similarity matrix...\n",
      "Done computing similarity matrix.\n"
     ]
    },
    {
     "data": {
      "text/plain": [
       "-13.660267449000003"
      ]
     },
     "execution_count": 19,
     "metadata": {},
     "output_type": "execute_result"
    }
   ],
   "source": [
    "tic = timeit.default_timer()\n",
    "algo_ibcf.fit(trainset)\n",
    "toc = timeit.default_timer()\n",
    "tic-toc"
   ]
  },
  {
   "cell_type": "markdown",
   "metadata": {},
   "source": [
    "For this dataset, the user-based collaborative filtering algorithm took by far the longest to train, while item-based was the shortest."
   ]
  },
  {
   "cell_type": "markdown",
   "metadata": {},
   "source": [
    "### Creating the predictions matrices\n",
    "\n",
    "We will use the test set to create the predictions matrices while again keeping an eye on the processing time."
   ]
  },
  {
   "cell_type": "code",
   "execution_count": 20,
   "metadata": {},
   "outputs": [
    {
     "data": {
      "text/plain": [
       "-2.4594789050001964"
      ]
     },
     "execution_count": 20,
     "metadata": {},
     "output_type": "execute_result"
    }
   ],
   "source": [
    "tic = timeit.default_timer()\n",
    "predictions_svd = algo_svd.test(testset)\n",
    "toc = timeit.default_timer()\n",
    "tic-toc"
   ]
  },
  {
   "cell_type": "code",
   "execution_count": 21,
   "metadata": {},
   "outputs": [
    {
     "data": {
      "text/plain": [
       "-139.7342614449999"
      ]
     },
     "execution_count": 21,
     "metadata": {},
     "output_type": "execute_result"
    }
   ],
   "source": [
    "tic = timeit.default_timer()\n",
    "predictions_ubcf = algo_ubcf.test(testset)\n",
    "toc = timeit.default_timer()\n",
    "tic-toc"
   ]
  },
  {
   "cell_type": "code",
   "execution_count": 22,
   "metadata": {},
   "outputs": [
    {
     "data": {
      "text/plain": [
       "-26.726808166999945"
      ]
     },
     "execution_count": 22,
     "metadata": {},
     "output_type": "execute_result"
    }
   ],
   "source": [
    "tic = timeit.default_timer()\n",
    "predictions_ibcf = algo_ibcf.test(testset)\n",
    "toc = timeit.default_timer()\n",
    "tic-toc"
   ]
  },
  {
   "cell_type": "markdown",
   "metadata": {},
   "source": [
    "In creating the predictions matrix, the SVD algorithm was extremely efficient, taking about 2.5 seconds. Again the UBCF algorithm was slow while the IBCF was significantly faster, but in this case far slower than SVD."
   ]
  },
  {
   "cell_type": "code",
   "execution_count": 23,
   "metadata": {},
   "outputs": [
    {
     "data": {
      "text/html": [
       "<div>\n",
       "<style scoped>\n",
       "    .dataframe tbody tr th:only-of-type {\n",
       "        vertical-align: middle;\n",
       "    }\n",
       "\n",
       "    .dataframe tbody tr th {\n",
       "        vertical-align: top;\n",
       "    }\n",
       "\n",
       "    .dataframe thead th {\n",
       "        text-align: right;\n",
       "    }\n",
       "</style>\n",
       "<table border=\"1\" class=\"dataframe\">\n",
       "  <thead>\n",
       "    <tr style=\"text-align: right;\">\n",
       "      <th></th>\n",
       "      <th>uid</th>\n",
       "      <th>iid</th>\n",
       "      <th>r_ui</th>\n",
       "      <th>est</th>\n",
       "      <th>details</th>\n",
       "    </tr>\n",
       "  </thead>\n",
       "  <tbody>\n",
       "    <tr>\n",
       "      <th>0</th>\n",
       "      <td>6564</td>\n",
       "      <td>82</td>\n",
       "      <td>4.0</td>\n",
       "      <td>3.649587</td>\n",
       "      <td>{'was_impossible': False}</td>\n",
       "    </tr>\n",
       "    <tr>\n",
       "      <th>1</th>\n",
       "      <td>7004</td>\n",
       "      <td>2547</td>\n",
       "      <td>5.0</td>\n",
       "      <td>3.932128</td>\n",
       "      <td>{'was_impossible': False}</td>\n",
       "    </tr>\n",
       "    <tr>\n",
       "      <th>2</th>\n",
       "      <td>6432</td>\n",
       "      <td>503</td>\n",
       "      <td>4.0</td>\n",
       "      <td>3.659755</td>\n",
       "      <td>{'was_impossible': False}</td>\n",
       "    </tr>\n",
       "    <tr>\n",
       "      <th>3</th>\n",
       "      <td>11486</td>\n",
       "      <td>241</td>\n",
       "      <td>5.0</td>\n",
       "      <td>4.218662</td>\n",
       "      <td>{'was_impossible': False}</td>\n",
       "    </tr>\n",
       "    <tr>\n",
       "      <th>4</th>\n",
       "      <td>12840</td>\n",
       "      <td>251</td>\n",
       "      <td>5.0</td>\n",
       "      <td>3.978246</td>\n",
       "      <td>{'was_impossible': False}</td>\n",
       "    </tr>\n",
       "  </tbody>\n",
       "</table>\n",
       "</div>"
      ],
      "text/plain": [
       "     uid   iid  r_ui       est                    details\n",
       "0   6564    82   4.0  3.649587  {'was_impossible': False}\n",
       "1   7004  2547   5.0  3.932128  {'was_impossible': False}\n",
       "2   6432   503   4.0  3.659755  {'was_impossible': False}\n",
       "3  11486   241   5.0  4.218662  {'was_impossible': False}\n",
       "4  12840   251   5.0  3.978246  {'was_impossible': False}"
      ]
     },
     "execution_count": 23,
     "metadata": {},
     "output_type": "execute_result"
    }
   ],
   "source": [
    "# display the predictions matrices\n",
    "pd.DataFrame(predictions_svd).head()"
   ]
  },
  {
   "cell_type": "code",
   "execution_count": 24,
   "metadata": {},
   "outputs": [
    {
     "data": {
      "text/html": [
       "<div>\n",
       "<style scoped>\n",
       "    .dataframe tbody tr th:only-of-type {\n",
       "        vertical-align: middle;\n",
       "    }\n",
       "\n",
       "    .dataframe tbody tr th {\n",
       "        vertical-align: top;\n",
       "    }\n",
       "\n",
       "    .dataframe thead th {\n",
       "        text-align: right;\n",
       "    }\n",
       "</style>\n",
       "<table border=\"1\" class=\"dataframe\">\n",
       "  <thead>\n",
       "    <tr style=\"text-align: right;\">\n",
       "      <th></th>\n",
       "      <th>uid</th>\n",
       "      <th>iid</th>\n",
       "      <th>r_ui</th>\n",
       "      <th>est</th>\n",
       "      <th>details</th>\n",
       "    </tr>\n",
       "  </thead>\n",
       "  <tbody>\n",
       "    <tr>\n",
       "      <th>0</th>\n",
       "      <td>6564</td>\n",
       "      <td>82</td>\n",
       "      <td>4.0</td>\n",
       "      <td>2.752987</td>\n",
       "      <td>{'actual_k': 40, 'was_impossible': False}</td>\n",
       "    </tr>\n",
       "    <tr>\n",
       "      <th>1</th>\n",
       "      <td>7004</td>\n",
       "      <td>2547</td>\n",
       "      <td>5.0</td>\n",
       "      <td>4.007065</td>\n",
       "      <td>{'actual_k': 40, 'was_impossible': False}</td>\n",
       "    </tr>\n",
       "    <tr>\n",
       "      <th>2</th>\n",
       "      <td>6432</td>\n",
       "      <td>503</td>\n",
       "      <td>4.0</td>\n",
       "      <td>3.585745</td>\n",
       "      <td>{'actual_k': 40, 'was_impossible': False}</td>\n",
       "    </tr>\n",
       "    <tr>\n",
       "      <th>3</th>\n",
       "      <td>11486</td>\n",
       "      <td>241</td>\n",
       "      <td>5.0</td>\n",
       "      <td>3.935059</td>\n",
       "      <td>{'actual_k': 40, 'was_impossible': False}</td>\n",
       "    </tr>\n",
       "    <tr>\n",
       "      <th>4</th>\n",
       "      <td>12840</td>\n",
       "      <td>251</td>\n",
       "      <td>5.0</td>\n",
       "      <td>3.768193</td>\n",
       "      <td>{'actual_k': 40, 'was_impossible': False}</td>\n",
       "    </tr>\n",
       "  </tbody>\n",
       "</table>\n",
       "</div>"
      ],
      "text/plain": [
       "     uid   iid  r_ui       est                                    details\n",
       "0   6564    82   4.0  2.752987  {'actual_k': 40, 'was_impossible': False}\n",
       "1   7004  2547   5.0  4.007065  {'actual_k': 40, 'was_impossible': False}\n",
       "2   6432   503   4.0  3.585745  {'actual_k': 40, 'was_impossible': False}\n",
       "3  11486   241   5.0  3.935059  {'actual_k': 40, 'was_impossible': False}\n",
       "4  12840   251   5.0  3.768193  {'actual_k': 40, 'was_impossible': False}"
      ]
     },
     "execution_count": 24,
     "metadata": {},
     "output_type": "execute_result"
    }
   ],
   "source": [
    "pd.DataFrame(predictions_ubcf).head()"
   ]
  },
  {
   "cell_type": "code",
   "execution_count": 25,
   "metadata": {},
   "outputs": [
    {
     "data": {
      "text/html": [
       "<div>\n",
       "<style scoped>\n",
       "    .dataframe tbody tr th:only-of-type {\n",
       "        vertical-align: middle;\n",
       "    }\n",
       "\n",
       "    .dataframe tbody tr th {\n",
       "        vertical-align: top;\n",
       "    }\n",
       "\n",
       "    .dataframe thead th {\n",
       "        text-align: right;\n",
       "    }\n",
       "</style>\n",
       "<table border=\"1\" class=\"dataframe\">\n",
       "  <thead>\n",
       "    <tr style=\"text-align: right;\">\n",
       "      <th></th>\n",
       "      <th>uid</th>\n",
       "      <th>iid</th>\n",
       "      <th>r_ui</th>\n",
       "      <th>est</th>\n",
       "      <th>details</th>\n",
       "    </tr>\n",
       "  </thead>\n",
       "  <tbody>\n",
       "    <tr>\n",
       "      <th>0</th>\n",
       "      <td>6564</td>\n",
       "      <td>82</td>\n",
       "      <td>4.0</td>\n",
       "      <td>3.049502</td>\n",
       "      <td>{'actual_k': 5, 'was_impossible': False}</td>\n",
       "    </tr>\n",
       "    <tr>\n",
       "      <th>1</th>\n",
       "      <td>7004</td>\n",
       "      <td>2547</td>\n",
       "      <td>5.0</td>\n",
       "      <td>4.260879</td>\n",
       "      <td>{'actual_k': 40, 'was_impossible': False}</td>\n",
       "    </tr>\n",
       "    <tr>\n",
       "      <th>2</th>\n",
       "      <td>6432</td>\n",
       "      <td>503</td>\n",
       "      <td>4.0</td>\n",
       "      <td>3.803407</td>\n",
       "      <td>{'actual_k': 40, 'was_impossible': False}</td>\n",
       "    </tr>\n",
       "    <tr>\n",
       "      <th>3</th>\n",
       "      <td>11486</td>\n",
       "      <td>241</td>\n",
       "      <td>5.0</td>\n",
       "      <td>3.865377</td>\n",
       "      <td>{'actual_k': 40, 'was_impossible': False}</td>\n",
       "    </tr>\n",
       "    <tr>\n",
       "      <th>4</th>\n",
       "      <td>12840</td>\n",
       "      <td>251</td>\n",
       "      <td>5.0</td>\n",
       "      <td>4.010829</td>\n",
       "      <td>{'actual_k': 40, 'was_impossible': False}</td>\n",
       "    </tr>\n",
       "  </tbody>\n",
       "</table>\n",
       "</div>"
      ],
      "text/plain": [
       "     uid   iid  r_ui       est                                    details\n",
       "0   6564    82   4.0  3.049502   {'actual_k': 5, 'was_impossible': False}\n",
       "1   7004  2547   5.0  4.260879  {'actual_k': 40, 'was_impossible': False}\n",
       "2   6432   503   4.0  3.803407  {'actual_k': 40, 'was_impossible': False}\n",
       "3  11486   241   5.0  3.865377  {'actual_k': 40, 'was_impossible': False}\n",
       "4  12840   251   5.0  4.010829  {'actual_k': 40, 'was_impossible': False}"
      ]
     },
     "execution_count": 25,
     "metadata": {},
     "output_type": "execute_result"
    }
   ],
   "source": [
    "pd.DataFrame(predictions_ibcf).head()"
   ]
  },
  {
   "cell_type": "markdown",
   "metadata": {},
   "source": [
    "### Calculate RMSE for each prediction matrix using the accuracy method"
   ]
  },
  {
   "cell_type": "code",
   "execution_count": 26,
   "metadata": {},
   "outputs": [
    {
     "name": "stdout",
     "output_type": "stream",
     "text": [
      "RMSE: 0.8683\n"
     ]
    },
    {
     "data": {
      "text/plain": [
       "0.8683405795425959"
      ]
     },
     "execution_count": 26,
     "metadata": {},
     "output_type": "execute_result"
    }
   ],
   "source": [
    "accuracy.rmse(predictions_svd)"
   ]
  },
  {
   "cell_type": "code",
   "execution_count": 27,
   "metadata": {},
   "outputs": [
    {
     "name": "stdout",
     "output_type": "stream",
     "text": [
      "RMSE: 0.8955\n"
     ]
    },
    {
     "data": {
      "text/plain": [
       "0.8954841380124771"
      ]
     },
     "execution_count": 27,
     "metadata": {},
     "output_type": "execute_result"
    }
   ],
   "source": [
    "accuracy.rmse(predictions_ubcf)"
   ]
  },
  {
   "cell_type": "code",
   "execution_count": 28,
   "metadata": {},
   "outputs": [
    {
     "name": "stdout",
     "output_type": "stream",
     "text": [
      "RMSE: 0.8826\n"
     ]
    },
    {
     "data": {
      "text/plain": [
       "0.8825989737675298"
      ]
     },
     "execution_count": 28,
     "metadata": {},
     "output_type": "execute_result"
    }
   ],
   "source": [
    "accuracy.rmse(predictions_ibcf)"
   ]
  },
  {
   "cell_type": "markdown",
   "metadata": {},
   "source": [
    "SVD had the lowest RMSE while UBCF had the highest."
   ]
  },
  {
   "cell_type": "markdown",
   "metadata": {},
   "source": [
    "### Implementing support for diversity\n",
    "\n",
    "Implementing support for diversity using the Surprise library requires writing a custom algorithm. Increased diversity could be achieved by adding some randomness to the prediction algorithm.\n",
    "\n",
    "In Surprise's prediction algorithm's package the function random_pred.NormalPredictor will predict a rating based on the distribution of the training set. By assigning a certain weight to this prediction, say 10%, and weighting the main algorithm predictions at 90%, we can generate predictions that have increased diversity.\n",
    "\n",
    "\"Accuracy\" in terms of RMSE would decrease as a trade-off for more diverse predictions.\n",
    "\n",
    "### Conclusions\n",
    "\n",
    "SVD had the highest prediction accuracy in terms of RMSE, and better overall processing time compared to UBCF and IBCF.\n",
    "\n",
    "Online environments are necessary to gauge real user engagement. Accuracy measures in an offline environment are somewhat meaningless if they do not translate to better user experience. Experiments that ask users to rate the quality of their recommendations, or measures of the level of their engagement (i.e. how quickly they read a recommended book) would go far in determining which algorithm or hybrid algorithm is the most effective."
   ]
  },
  {
   "cell_type": "code",
   "execution_count": null,
   "metadata": {},
   "outputs": [],
   "source": []
  }
 ],
 "metadata": {
  "kernelspec": {
   "display_name": "Python 3",
   "language": "python",
   "name": "python3"
  },
  "language_info": {
   "codemirror_mode": {
    "name": "ipython",
    "version": 3
   },
   "file_extension": ".py",
   "mimetype": "text/x-python",
   "name": "python",
   "nbconvert_exporter": "python",
   "pygments_lexer": "ipython3",
   "version": "3.7.6"
  }
 },
 "nbformat": 4,
 "nbformat_minor": 4
}
